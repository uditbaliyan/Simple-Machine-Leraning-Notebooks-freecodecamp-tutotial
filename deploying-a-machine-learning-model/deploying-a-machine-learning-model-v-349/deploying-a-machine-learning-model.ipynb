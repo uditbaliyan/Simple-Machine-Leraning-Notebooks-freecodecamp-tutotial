{
 "cells": [
  {
   "cell_type": "markdown",
   "metadata": {},
   "source": [
    "# Deploying a Machine Learning Model\n"
   ]
  },
  {
   "cell_type": "markdown",
   "metadata": {},
   "source": [
    "![](https://i.imgur.com/TDEW5tr.png)\n",
    "\n"
   ]
  },
  {
   "cell_type": "markdown",
   "metadata": {},
   "source": [
    "In this tutorial, you will learn how to create a web application using Flask, a Python web framework, and deploy it to the cloud using Render. You will also learn how to add HTML templates to the web page and style it using CSS.\n",
    "\n",
    "By the end of this tutorial, you will have a basic understanding of how to create a web application using Flask, how to integrate machine learning models into web applications, and how to deploy a web application to the cloud.\n"
   ]
  },
  {
   "cell_type": "markdown",
   "metadata": {},
   "source": [
    "The following topics are covered in this tutorial:-\n",
    "- Project setup using GitHub and Conda Environment \n",
    "- Creating a simple web application using Flask\n",
    "- Adding HTML template to the web app\n",
    "- ML Models requirement for deployment\n",
    "- Running the model locally on a Web Browser\n",
    "- Publishing to GitHub & Deploying to Render\n",
    "- Create an API Route for the model"
   ]
  },
  {
   "cell_type": "markdown",
   "metadata": {},
   "source": [
    "## Prerequisites"
   ]
  },
  {
   "cell_type": "markdown",
   "metadata": {},
   "source": [
    "This tutorial assumes the following prerequisites:\n",
    "- Basic knowledge of Python\n",
    "- Basic knowledge of HTML tags like body, div, headings, form etc & CSS styles like background-color, text-align etc.\n",
    "- Some level of understanding of machine learning concepts, for ex: the ability to evaluate models that were trained before"
   ]
  },
  {
   "cell_type": "markdown",
   "metadata": {},
   "source": [
    "## Problem Statement\n",
    "\n",
    "\n",
    "> You are given a pretrained Email Spam Classifier model and its requirements. Your task is to deploy the model and prepare it for the end-user. To achieve this, you need to design a webpage using HTML and use the given model to predict whether an email is spam or not. The webpage should have a simple user-friendly interface. \n",
    "> \n",
    "> In short, you have to design a form that takes only one input, the email text and returns whether the email is spam or not spam. "
   ]
  },
  {
   "cell_type": "markdown",
   "metadata": {},
   "source": [
    "## Creating  a Simple Flask App\n",
    "\n",
    "- Create a new Repository on GitHub \n",
    "- Set up the repository in any code editor\n",
    "- Conda Environment and Required Packages\n",
    "- Create and run a Flask web server"
   ]
  },
  {
   "cell_type": "markdown",
   "metadata": {},
   "source": [
    "### Create a new Repository on Github \n"
   ]
  },
  {
   "cell_type": "markdown",
   "metadata": {},
   "source": [
    "GitHub is a platform for sharing and collaborating on software development projects which is powered by a version control system git. \n",
    "We can begin by heading to GitHub and creating a new repository. \n",
    "\n",
    "<img src=\"https://i.imgur.com/0MCA1og.png\" width=\"365\" />\n",
    "  \n",
    "Give a unique repository name, you can select the Readme file options, add a GitIgnore template of Python and select MIT License.\n",
    "\n",
    "<img src=\"https://i.imgur.com/EIPlVwY.png\" width=\"625\" /> \n",
    "\n",
    "GitHub can be used to store projects but not to develop projects. So now that we have created a github repository, we will open the project in our choice of code editor."
   ]
  },
  {
   "cell_type": "markdown",
   "metadata": {},
   "source": [
    "### Setup the Repository in a Code Editor:\n"
   ]
  },
  {
   "cell_type": "markdown",
   "metadata": {},
   "source": [
    "#### GitHub Codespace"
   ]
  },
  {
   "cell_type": "markdown",
   "metadata": {},
   "source": [
    "A codespace is a development environment that's hosted in the cloud. Each codespace you create is hosted by GitHub in a Docker container, running on a virtual machine. You can choose from a selection of virtual machine types, from 2 cores, 8 GB RAM, and 32 GB storage, up to 32 cores, 64 GB RAM, and 128 GB storage.\n",
    "\n",
    "All personal GitHub.com accounts include a monthly quota of free usage each month. GitHub will provide users in the Free plan 120 core hours, or 60 hours of run time on a 2 core codespace, plus 15 GB of storage each month.\n",
    "\n",
    "In **this tutorial** we'll be using **GitHub Codespaces** as our primary choice of editor. \n",
    "\n",
    "Setting up Codespaces is also straightforward. Follow [these guidelines]( https://docs.github.com/en/codespaces/developing-in-codespaces/creating-a-codespace-for-a-repository) to set up GitHub Codespace."
   ]
  },
  {
   "cell_type": "markdown",
   "metadata": {},
   "source": [
    "#### Replit"
   ]
  },
  {
   "cell_type": "markdown",
   "metadata": {},
   "source": [
    "If you want to use Replit, follow this <a href=\"#replit\">setup guide.</a>"
   ]
  },
  {
   "cell_type": "markdown",
   "metadata": {},
   "source": [
    "#### VSCode"
   ]
  },
  {
   "cell_type": "markdown",
   "metadata": {},
   "source": [
    "If you want to work on the project locally and use VSCode as your preferred code editor, follow this <a href=\"#vscode\">guide</a>"
   ]
  },
  {
   "cell_type": "markdown",
   "metadata": {},
   "source": [
    "### Conda Environment and Required Packages"
   ]
  },
  {
   "cell_type": "markdown",
   "metadata": {},
   "source": [
    "Anaconda is a distribution of the Python for scientific computing, that aims to simplify package management and deployment. \n",
    "\n",
    "Anaconda Server enables you to upload, move, copy, share, and download an environment yaml file. An environment is a folder or directory that contains a specific collection of conda packages and their dependencies. This allows them to be maintained and run separately without interference from each other.\n",
    "\n",
    "Follow this guide to install [Anaconda](https://docs.anaconda.com/free/anaconda/install/index.html) or [Miniconda](https://conda.io/projects/conda/en/latest/user-guide/install/windows.html) to your PC. "
   ]
  },
  {
   "cell_type": "markdown",
   "metadata": {},
   "source": [
    "Here are the steps to **create a new conda environment**.\n",
    "- Open a new terminal in VSCode\n",
    "\n",
    "<p float='left'>\n",
    "<img src='https://i.imgur.com/pLWYgq4.png' width='600'></p>\n",
    "\n",
    "- [Optional] To check conda is installed in your computer, run the following command `conda --version`\n",
    "\n",
    "- Type `conda create -n environment-name python=3.7.10` and hit enter. \n",
    "\n",
    "<p float='left'>\n",
    "<img src='https://i.imgur.com/ddurdQa.png' width='600'></p>\n",
    "\n",
    "- Activate the environment. You will notice the environment name will appear on the left side of the shell terminal.\n",
    "\n",
    "<p float='left'>\n",
    "<img src='https://i.imgur.com/0dj1nol.png' width='600'></p>\n",
    "\n",
    "You have successfully created a new environment. Now let's install the required dependencies. \n",
    "\n",
    "**Installing Packages:**\n",
    "\n",
    "Simply copy the below code and run it in your terminal. This should install all the required dependencies for the project. We will talk more about the libraries later. \n",
    "\n",
    "`pip install flask gunicorn pickle-mixin scikit-learn`"
   ]
  },
  {
   "cell_type": "markdown",
   "metadata": {},
   "source": [
    "### Create and Run a Flask Web Server"
   ]
  },
  {
   "cell_type": "markdown",
   "metadata": {},
   "source": [
    "#### Step 1: Create a New Python File\n",
    "\n",
    "Firstly, create a new Python file named `app.py` in your project directory.\n",
    "\n",
    "If you're using a terminal or command line interface, you can use the `touch` command to create a new file:\n",
    "\n",
    "```bash\n",
    "touch app.py\n",
    "```\n",
    "\n",
    "Or, simply create a new file named `app.py` in your preferred text editor or integrated development environment (IDE)."
   ]
  },
  {
   "cell_type": "markdown",
   "metadata": {},
   "source": [
    "#### Step 2: Start Writing the Flask Application Code\n",
    "\n",
    "Open the `app.py` file in your text editor or IDE.\n",
    "\n",
    "- Import Flask: The very first step is importing the Flask class from the Flask module.\n",
    "\n",
    "  ```python\n",
    "  from flask import Flask\n",
    "  ```\n",
    "\n",
    "  This Flask class instance will become our WSGI (Web Server Gateway Interface) application. WSGI is a specification that describes how a web server communicates with web applications. For more detailed information on WSGI, please follow this link: [WSGI Servers](https://www.fullstackpython.com/wsgi-servers.html)\n",
    "\n",
    "\n",
    "- Create an Instance of the Flask Class: Next, we will create an instance of the Flask class, commonly named `app`. This is done by providing a special Python variable, `__name__`, which gets the name of the current module. This helps Flask locate resources, such as templates, that it might need for the web application.\n",
    "\n",
    "  ```python\n",
    "  app = Flask(__name__)\n",
    "  ```\n",
    "\n",
    "\n",
    "- Register a Route: A route in web development terms is a URL pattern that an application can respond to. For Flask, we can define what our application should return when a specific URL is requested by defining a route and a function. We use a decorator, `@app.route('/')`, to register the function as a route.\n",
    "\n",
    "  ```python\n",
    "  @app.route('/')\n",
    "  def home():\n",
    "      return \"Hello, World!\"\n",
    "  ```\n",
    "  In this example, the upward slash `'/'` is the simplest route, typically representing the home page of a website. When someone visits the home page, the function `home` will be called and \"Hello, World!\" will be displayed.\n",
    "\n",
    "\n",
    "- Run the Flask Application: Finally, to run the Flask application, we need to call `app.run`. We typically do this within a `if __name__ == '__main__':` block to ensure the server only runs if the script is executed directly (not imported as a module).\n",
    "\n",
    "  ```python\n",
    "  if __name__ == '__main__':\n",
    "      app.run(host='0.0.0.0', debug=True)\n",
    "  ```\n",
    "\n",
    "\n",
    "  In the above line, `host='0.0.0.0'` allows your app to be accessible on any IP your machine happens to have. The `debug=True` argument enables debug mode in Flask. In this mode, the server will automatically reload for code changes, and it will provide useful debug information if an error occurs.\n",
    "\n",
    "After following all the above steps, your Flask application should look like this:\n",
    "\n",
    "```python\n",
    "# Import the Flask class from the flask module\n",
    "from flask import Flask\n",
    "\n",
    "# Create an instance of the Flask class\n",
    "app = Flask(__name__)\n",
    "\n",
    "# Register a route\n",
    "@app.route('/')\n",
    "def home():\n",
    "    return \"Hello, World!\"\n",
    "\n",
    "# Run the Flask application\n",
    "if __name__ == '__main__':\n",
    "    app.run(host='0.0.0.0', debug=True)\n",
    "```\n"
   ]
  },
  {
   "cell_type": "markdown",
   "metadata": {
    "heading_collapsed": true
   },
   "source": [
    "#### Step 3: Running the Flask Application\n",
    "\n",
    "To run the Flask application, you need to execute the `app.py` script. You can do this from the terminal or command line with the following command:\n",
    "\n",
    "```bash\n",
    "python app.py\n",
    "```\n",
    "\n",
    "Now open a web browser and navigate to your localhost on port 5000 (typically `http://127.0.0.1:5000/` or `http://localhost:5000/`) to see your Flask application in action.\n",
    "\n",
    "<img src=\"https://i.imgur.com/HcwEwev.png\" width=\"540\"></img>\n",
    "\n",
    "Congratulations! You've created and run a simple Flask application from a new `app.py` file.\n"
   ]
  },
  {
   "cell_type": "markdown",
   "metadata": {
    "hidden": true
   },
   "source": []
  },
  {
   "cell_type": "markdown",
   "metadata": {
    "hidden": true
   },
   "source": []
  },
  {
   "cell_type": "markdown",
   "metadata": {
    "hidden": true
   },
   "source": []
  },
  {
   "cell_type": "markdown",
   "metadata": {},
   "source": [
    "## Rendering HTML from Templates & Creating a Simple Form\n",
    "\n"
   ]
  },
  {
   "cell_type": "markdown",
   "metadata": {},
   "source": [
    "### Rendering HTML from templates\n",
    "\n",
    "Flask supports generating dynamic HTML content via templates using the `render_template()` function. It uses the Jinja2 template engine to do this. \n",
    "\n",
    "Let's create a brief tutorial on how to modify our Flask app to serve a HTML file instead of just a string like \"Hello, World!\".\n",
    "\n",
    "#### Step 1: Create a Templates Directory\n",
    "\n",
    "In your project's root directory, create a new directory named `templates`. Flask automatically looks for HTML files in a folder named \"templates\".\n",
    "\n",
    "```bash\n",
    "mkdir templates\n",
    "```\n",
    "\n",
    "#### Step 2: Create an HTML file\n",
    "\n",
    "Inside the `templates` directory, create a new HTML file named `index.html` and write your HTML content. Here's a simple example:\n",
    "\n",
    "```html\n",
    "<!DOCTYPE html>\n",
    "<html>\n",
    "<head>\n",
    "    <title>My First Webpage</title>\n",
    "</head>\n",
    "<body>\n",
    "    <h1>Hello, World! From Template</h1>\n",
    "</body>\n",
    "</html>\n",
    "```\n",
    "\n",
    "<img src=\"https://i.imgur.com/pWIko6E.png\" width=\"540\"></img>\n",
    "\n",
    "\n",
    "#### Step 3: Modify Your Flask Application\n",
    "\n",
    "Now, go back to your `app.py` file. Instead of returning a string from the function `home()`, we'll use the `render_template()` function to return the `index.html` file we created. \n",
    "\n",
    "Don't forget to import `render_template` from the flask module at the top of your script.\n",
    "\n",
    "```python\n",
    "from flask import Flask, render_template\n",
    "\n",
    "app = Flask(__name__)\n",
    "\n",
    "@app.route('/')\n",
    "def home():\n",
    "    return render_template('index.html')\n",
    "\n",
    "if __name__ == '__main__':\n",
    "    app.run(host='0.0.0.0', debug=True)\n",
    "```\n",
    "\n",
    "Now, when you navigate to your application, instead of seeing plain text, you'll see the HTML content from the `index.html` file.\n",
    "\n",
    "The `render_template()` function makes it easy to serve dynamic HTML content with Flask. It can also accept variables, allowing you to customize the HTML content it serves.\n",
    "\n",
    "\n",
    "<img src=\"https://i.imgur.com/IAvujlw.png\" width=\"540\"></img>\n",
    "\n",
    "<img src=\"https://i.imgur.com/uAzuqLO.png\" width=\"540\"></img>"
   ]
  },
  {
   "cell_type": "markdown",
   "metadata": {},
   "source": [
    "### Creating a Simple Form\n",
    "\n",
    "Next we will try to create a simple form as shown in the image below.\n",
    "\n",
    "<img src=\"https://i.imgur.com/BiRVWMJ.png\" width=\"540\" height=\"240\"></img>\n"
   ]
  },
  {
   "cell_type": "markdown",
   "metadata": {},
   "source": [
    "#### HTML Form\n",
    "\n",
    "First we'll create a simple form using a `textarea` and `button` and a heading on the top. From this point we will mostly update the `index.html` page for any changes in the HTML page.\n",
    "\n",
    "```html\n",
    "<!DOCTYPE html>\n",
    "<html>\n",
    "\n",
    "<head>\n",
    "    <title>\n",
    "        Email Spam Classifier\n",
    "    </title>\n",
    "</head>\n",
    "\n",
    "<body>\n",
    "    <h1>Email Spam Classifier</h1>\n",
    "    <div>\n",
    "        <form>\n",
    "            <textarea rows=\"12\" cols=\"60\" name=\"content\" placeholder=\"Type or paste your email here\"></textarea>\n",
    "            <div>\n",
    "                <button>\n",
    "                    Submit\n",
    "                </button>\n",
    "            </div>\n",
    "        </form>\n",
    "    </div>\n",
    "</body>\n",
    "\n",
    "</html>\n",
    "```\n",
    "\n",
    "#### Style Tag\n",
    "\n",
    "The structure looks a bit unordered, so we'll use a naive approach to center everything to the center and add the colour to the button.\n",
    "\n",
    "```html\n",
    "<!DOCTYPE html>\n",
    "<html>\n",
    "\n",
    "<head>\n",
    "    <title>\n",
    "        Email Spam Classifier\n",
    "    </title>\n",
    "    <style>\n",
    "        body {\n",
    "            text-align: center;\n",
    "        }\n",
    "\n",
    "        button {\n",
    "            color: aliceblue;\n",
    "            background-color: blue;\n",
    "        }\n",
    "    </style>\n",
    "</head>\n",
    "\n",
    "<body>\n",
    "    <h1>Email Spam Classifier</h1>\n",
    "    ...\n",
    "</body>\n",
    "\n",
    "</html>\n",
    "\n",
    "```\n",
    "\n",
    "To keep things simple I've applied the style in the HTML page itself. You can create a different `styles.css` file or use a framework like BootstrapCSS or TailwindCSS.\n"
   ]
  },
  {
   "cell_type": "markdown",
   "metadata": {},
   "source": [
    "### Displaying the Input Text on the Screen on Button Click"
   ]
  },
  {
   "cell_type": "markdown",
   "metadata": {},
   "source": [
    "We can modify the Flask application to handle form submissions and display the submitted text. Here's how you can do it:\n",
    "\n",
    "- **Modify the HTML Form**: You need to change the form method to \"POST\" and also add a place to display the submitted text in the `index.html`. We'll use a paragraph tag `<p>` with the id \"display\" for this purpose.\n",
    "\n",
    "  ```html\n",
    "    <body>\n",
    "        <h1>Email Spam Classifier</h1>\n",
    "        <div>\n",
    "            <form method=\"POST\">\n",
    "                <textarea rows=\"12\" cols=\"60\" name=\"content\" placeholder=\"Enter your email here\"\n",
    "                value=\"{{ text }}\">{{ text }}</textarea>\n",
    "                <div>\n",
    "                    <button type=\"submit\">Submit</button>\n",
    "                </div>\n",
    "            </form>\n",
    "        </div>\n",
    "        <div>\n",
    "            <p id=\"display\"></p>\n",
    "        </div>\n",
    "    </body>\n",
    "  ```\n",
    "  \n",
    "  Please Note: We've added a value in the `textarea` and also some default text. We'll learn more about it in the later steps. \n",
    "  \n",
    "- **Modify the Flask Application**: Next, you'll want to modify the `home` function in your Flask application to handle `POST` requests. When a `POST` request is received (which is when the user submits the form), the function will retrieve the submitted text, and render the form again, this time with the submitted text.\n",
    "\n",
    "  We will use the `request` object from flask to get the form data.\n",
    "\n",
    "  Update your `app.py` file with the following changes:\n",
    "\n",
    "    ```python\n",
    "    from flask import Flask, render_template, request\n",
    "\n",
    "    app = Flask(__name__)\n",
    "\n",
    "    @app.route('/', methods=['GET', 'POST'])\n",
    "    def home():\n",
    "        text = \"\"\n",
    "        if request.method == 'POST':\n",
    "            text = request.form.get('email-content')\n",
    "        return render_template('spam_classifier.html', text=text)\n",
    "\n",
    "    if __name__ == '__main__':\n",
    "        app.run(host='0.0.0.0', debug=True)\n",
    "    ```\n",
    "\n",
    "- **Display the Text in the HTML**: Finally, we'll modify the `index.html` file to display the text passed to the `render_template` function. \n",
    "\n",
    "  We'll use the double curly braces (`{{ }}`) to insert the value of the `text` variable in the HTML. Update the `<p>` tag with the following changes:\n",
    "\n",
    "    ```html\n",
    "    <p id=\"display\">{{ text }}</p>\n",
    "    ```\n",
    "\n",
    "Now, when you enter some text into the form and click the \"Submit\" button, the text you entered will be displayed below the button."
   ]
  },
  {
   "cell_type": "markdown",
   "metadata": {},
   "source": [
    "## Email Spam Classifier ML Model"
   ]
  },
  {
   "cell_type": "markdown",
   "metadata": {},
   "source": [
    "\n",
    "![](https://i.imgur.com/HDei1EP.png)\n",
    "\n",
    "An email spam classifier is a machine learning algorithm that analyzes incoming emails and automatically categorizes them as either spam or legitimate messages.\n",
    "\n",
    "The algorithm is trained on a large dataset of labeled emails, meaning that each email is labeled as either spam or not spam. This training data allows the algorithm to learn patterns and features that are indicative of spam emails.\n",
    "\n"
   ]
  },
  {
   "cell_type": "markdown",
   "metadata": {},
   "source": [
    "This project is about deployment so not going deep into the specifics of the model and the process.\n",
    "\n",
    "Here are some important points to note:\n",
    "- The training data has only one feature which is the email text\n",
    "- The email text is tokenized using sklearn and top 10000 words in all emails text is selected \n",
    "- A model is trained using sklearn Python library, where the training data is the tokenized email texts\n",
    "- To classify a email text whether it is spam or not, we have to pass the tokenized text to model.predict() and get the prediction\n",
    "\n",
    "![](https://i.imgur.com/KiLvAJ7.png)"
   ]
  },
  {
   "cell_type": "markdown",
   "metadata": {},
   "source": [
    "## Running the Model Locally"
   ]
  },
  {
   "cell_type": "markdown",
   "metadata": {},
   "source": [
    "### Step 1: Uploading Pre-Trained Models to Your Project Folder"
   ]
  },
  {
   "cell_type": "markdown",
   "metadata": {},
   "source": [
    "Start by uploading your pre-trained models, saved as pickle files, to your project folder. These models can be found at the following GitHub Repository links:\n",
    "\n",
    "1. [Count Vectorizer](https://github.com/BirajCoder/email-spam-classifier/blob/main/model/cv.pkl)\n",
    "2. [Classifier Model](https://github.com/BirajCoder/email-spam-classifier/blob/main/model/clf.pkl)\n",
    "\n",
    "Next, create a new folder named `models` in your project folder using the command: `mkdir models`. This will be the destination for the pre-trained models.\n",
    "\n",
    "Finally, upload the downloaded models into the `models` folder. \n",
    "\n",
    "Refer to the image below for clarification:\n",
    "\n",
    "<img src=\"https://i.imgur.com/j3ntiSp.png\" alt=\"Models Folder\" width=\"540\" height=\"240\"></img>"
   ]
  },
  {
   "cell_type": "markdown",
   "metadata": {},
   "source": [
    "### Step 2: Updating the `App.py` File"
   ]
  },
  {
   "cell_type": "markdown",
   "metadata": {},
   "source": [
    "With your models now in the project folder, it's time to make some adjustments to your `app.py` file. Here's what you need to do:\n",
    "\n",
    "- Load the models from the pickle files.\n",
    "- Update the `home` route. Remove the POST method and just render the index.html page.\n",
    "- Add a new route `/predict`. This route will be activated whenever the predict button is clicked.\n",
    "\n",
    "Here's the updated version of the `app.py` file:\n",
    "\n",
    "```python\n",
    "from flask import Flask, render_template, request\n",
    "import pickle\n",
    "\n",
    "app = Flask(__name__)\n",
    "cv = pickle.load(open(\"models/cv.pkl\"))\n",
    "clf = pickle.load(open(\"models/clf.pkl\"))\n",
    "\n",
    "@app.route(\"/\")\n",
    "def home():\n",
    "    return render_template(\"index.html\")\n",
    "\n",
    "@app.route(\"/predict\", methods=[\"POST\"])\n",
    "def predict():\n",
    "    email = request.form.get('content')\n",
    "    tokenized_email = cv.transform([email]) # X \n",
    "    prediction = clf.predict(tokenized_email)\n",
    "    prediction = 1 if prediction == 1 else -1\n",
    "    return render_template(\"index.html\", prediction=prediction, email=email)\n",
    "\n",
    "if __name__ == \"__main__\":\n",
    "    app.run(host=\"0.0.0.0\", port=8080, debug=True)\n",
    "```\n",
    "\n",
    "The following image shows how your code should look:\n",
    "\n",
    "<img src=\"https://i.imgur.com/U6yx3JI.png\" width=\"540\" height=\"240\"></img>"
   ]
  },
  {
   "cell_type": "markdown",
   "metadata": {},
   "source": [
    "### Step 3: Updating the index.html File"
   ]
  },
  {
   "cell_type": "markdown",
   "metadata": {},
   "source": [
    "Next, update the `index.html` file to reflect the changes made in the `app.py` file. Here's what you should do:\n",
    "\n",
    "- Change `{{ text }}` to `{{ prediction }}` in the display paragraph.\n",
    "- Replace `{{ text }}` with `{{ email }}` in the `textarea` tag.\n",
    "- Add the action to route `/predict` in the form.\n",
    "- (Optional) Add a reset link beside the button. Clicking this link will redirect the page to the home page.\n",
    "\n",
    "Refer to the image below to understand how these changes look:\n",
    "\n",
    "<img src=\"https://i.imgur.com/Gh7pFAx.png\" width=\"540\" height=\"240\"></img>\n",
    "\n",
    "After making these updates, if you paste an email body in the textarea and click the submit button, the result will be either 1 or -1, representing spam or not spam respectively.\n",
    "\n",
    "<img src=\"https://i.imgur.com/fz0ycjk.png\" width=\"540\" height=\"240\"></img>"
   ]
  },
  {
   "cell_type": "markdown",
   "metadata": {},
   "source": [
    "### Step 4: Displaying \"Spam\" or \"Not Spam\" According to the Prediction"
   ]
  },
  {
   "cell_type": "markdown",
   "metadata": {},
   "source": [
    "To enhance user experience, you can modify the `index.html` file to display \"Spam\" or \"Not Spam\" based on the prediction output. This can be achieved by adding conditional statements to the file.\n",
    "\n",
    "Have\n",
    "\n",
    " a look at the following images to understand these modifications better:\n",
    " \n",
    "<img src=\"https://i.imgur.com/6vbJyXy.png\" width=\"540\" height=\"240\"></img>\n",
    "\n",
    "<img src=\"https://i.imgur.com/hp4Lf09.png\" width=\"540\" height=\"240\"></img>\n",
    "\n",
    "Updated Code: \n",
    "\n",
    "```html\n",
    "<html>\n",
    "...\n",
    "<body>\n",
    "    <h1>Email Spam Classifier</h1>\n",
    "    <div>\n",
    "        <form method=\"post\" action=\"/predict\">\n",
    "            <textarea rows=\"12\" cols=\"60\" name=\"content\" placeholder=\"Enter your email here\"\n",
    "                autocomplete=\"off\">{{ email }}</textarea>\n",
    "            <div>\n",
    "                <button type=\"submit\">\n",
    "                    Button\n",
    "                </button>\n",
    "                <a href=\"/\">Reset</a>\n",
    "            </div>\n",
    "        </form>\n",
    "\n",
    "    </div>\n",
    "    <div>\n",
    "        {% if prediction %}\n",
    "        {% if prediction == 1 %}\n",
    "        <h2 style=\"color: red\">Spam</h2>\n",
    "        {% else %}\n",
    "        <h2 style=\"color: green\">Not Spam</h2>\n",
    "        {% endif %}\n",
    "        {% endif %}\n",
    "        <!-- <p id=\"display\"></p> -->\n",
    "    </div>\n",
    "</body>\n",
    "</html>\n",
    "```\n",
    "\n",
    "**Example Spam Mail:** \n",
    "> \"I love tax season\" said no one ever. So here are some hacks to make it more bearable:\n",
    " Save up to ₹46 K in taxes by investing ₹1.5 L in ELSS Mutual Funds\n",
    " Save up to ₹10 K in taxes by harvesting ₹1 L in long-term capital gains. Check recommendations\n",
    "Unfortunately, complaining about taxes is not tax deductible\n",
    "\n",
    "**Example Non Spam Mail:** \n",
    "> \n",
    "> We have some changes in our regular class schedule for this week. Instead of the usual \"Machine Learning Foundations\" and \"Data Science Career Readiness Training\" on Wednesday, 14th June, we are rescheduling the class to Thursday, 15th June.\n",
    ">\n",
    "> Instructor, will be conducting an exclusive workshop titled \"Machine Learning Model Deployment\" on the 14th of June. The workshop will be held from 7:00 PM to 8:30 PM IST. We strongly recommend all students to attend the workshop.\n",
    ">\n",
    "> You can join the workshop via this link.\n",
    ">\n",
    "> Please reach out to us via Discussions for any queries. We appreciate your understanding and cooperation in this matter, and we look forward to seeing you at the workshop and the rescheduled class.\n",
    "\n",
    "Congratulations! You have now successfully set up the first version of your email spam classifier web application. It's ready for publication and use."
   ]
  },
  {
   "cell_type": "markdown",
   "metadata": {},
   "source": [
    "## Deploying the Web Application to Cloud"
   ]
  },
  {
   "cell_type": "markdown",
   "metadata": {},
   "source": [
    "Now, we will go through the steps necessary to publish your web application on the web. We'll be using [Render.com](https://render.com/), a service that offers free hosting for personal projects. "
   ]
  },
  {
   "cell_type": "markdown",
   "metadata": {},
   "source": [
    "### Step 1: Preparing for Publishing\n"
   ]
  },
  {
   "cell_type": "markdown",
   "metadata": {},
   "source": [
    "First, we need to create a `requirements.txt` file which lists all the libraries needed to run our Flask application. Run the following command in your terminal or command prompt to automatically save all required libraries at once:\n",
    "\n",
    "`pip freeze > requirements.txt`\n",
    "\n",
    "<img src=\"https://i.imgur.com/SNBDvrZ.png\" width=\"540\" height=\"240\"></img>\n",
    "\n",
    "*Note: The libraries in your environment may vary.*\n",
    "\n",
    "Next, consider updating the README.md file in your project folder to provide a detailed description of your repository. This can attract more attention to your project."
   ]
  },
  {
   "cell_type": "markdown",
   "metadata": {},
   "source": [
    "### Step 2: Pushing Changes to GitHub"
   ]
  },
  {
   "cell_type": "markdown",
   "metadata": {},
   "source": [
    "Now, let's push our changes to GitHub. You can do this by running the following commands in your terminal or command prompt, or you can use GitHub Desktop/extensions for a more direct approach:\n",
    "\n",
    "1. `git add .` to stage all changes\n",
    "2. `git commit -m \"Created email spam classifier\"`\n",
    "3. `git push origin main`\n",
    "\n",
    "If you're setting up git for the first time or facing issues while you're trying to commit, you might have to do the `git config` setup. To know more, [check this guide](https://git-scm.com/book/en/v2/Getting-Started-First-Time-Git-Setup).\n",
    "\n",
    "You may need to sign in to GitHub and authorize it to push changes.\n",
    "\n",
    "<img src=\"https://i.imgur.com/zog4OOF.png\" width=\"540\" height=\"240\"></img>\n",
    "\n",
    "<img src=\"https://i.imgur.com/Bwgkd2r.png\" width=\"540\" height=\"240\"></img>"
   ]
  },
  {
   "cell_type": "markdown",
   "metadata": {},
   "source": [
    "### Step 3: Publishing with Render"
   ]
  },
  {
   "cell_type": "markdown",
   "metadata": {},
   "source": [
    "The final part of the process is publishing your application on Render. Navigate to the [Render Dashboard](https://dashboard.render.com/). You'll need to sign up or log in to Render. \n",
    "\n",
    "<img src=\"https://i.imgur.com/XEuONZH.png\" width=\"540\" height=\"240\"></img>\n",
    "\n",
    "Follow these steps to create a new deployment:\n",
    "\n",
    "1. Select the \"New\" Button\n",
    "2. Click on \"Web Services\" \n",
    "\n",
    "<img src=\"https://i.imgur.com/GyDtIwO.png\" width=\"540\" height=\"240\"></img>\n",
    "\n",
    "3. Click on the \"Connect with GitHub\" button on the right side\n",
    "\n",
    "<img src=\"https://i.imgur.com/kkDhNAG.png\" width=\"540\" height=\"240\"></img>\n",
    "\n",
    "4. Select your GitHub Account\n",
    "5. On the next page, you'll be asked to give access. You can choose to give access to all your repositories or selected repositories. (You can change this later from your GitHub account settings). For this tutorial, we'll select \"All Repositories\".\n",
    "\n",
    "<img src=\"https://i.imgur.com/AhmkeX4.png\" width=\"540\" height=\"240\"></img>\n",
    "\n",
    "Click \"Install\" after making your selection.\n",
    "\n",
    "6. Once Render is connected to your GitHub account, you will see a list of your repositories. Choose the repository you want to deploy and click on \"Connect\".\n",
    "\n",
    "<img src=\"https://i.imgur.com/3Is0jx7.png\" width=\"540\" height=\"240\"></img>\n",
    "\n",
    "In the final page of deployment, take note of the following:\n",
    "\n",
    "- Select a unique name for the web service\n",
    "- Select a region closest to you\n",
    "- Confirm your primary GitHub repository branch (usually \"main\")\n",
    "<img src=\"https://i.imgur.com/icKxsi5.png\" width=\"540\" height=\"240\"></img>\n",
    "- Ensure the runtime is Python 3 as we're using Flask\n",
    "- Confirm the `requirements.txt` file is configured correctly\n",
    "- The start command using `gunicorn` is `gunicorn app:app`, where `app` refers to the file name `app.py` and the object where `Flask()` is initialized.\n",
    "<img src=\"https://i.imgur.com/VcRiRN9.png\" width=\"540\" height=\"240\"></img>\n",
    "- Select your preferred instance type (we'll select the Free instance for this tutorial)\n",
    "\n",
    "<img src=\"https://i.imgur.com/oXh8R4a.png\" width=\"540\" height=\"240\"></img>\n",
    "\n",
    "Finally, click on \"Create Web\n",
    "\n",
    "Service\". No need to adjust advanced settings for now.\n"
   ]
  },
  {
   "cell_type": "markdown",
   "metadata": {},
   "source": [
    "### Step 4: Awaiting Deployment"
   ]
  },
  {
   "cell_type": "markdown",
   "metadata": {},
   "source": [
    "<img src=\"https://cdn3.iconfinder.com/data/icons/emoticon-emoji-1/50/Waiting-512.png\" width=\"100\" height=\"100\"></img>\n",
    "\n",
    "You'll now have to wait for the deployment process to finish. As we're using the free instance, it might take some time to install all the packages and complete the deployment. \n",
    "\n",
    "During the deployment process, you might encounter errors. These will need to be addressed and fixed accordingly. \n",
    "\n",
    "<img src=\"https://i.imgur.com/eN3gW9i.png\" width=\"540\" height=\"240\"></img>\n",
    "\n",
    "For example, the error above indicates that Flask 2.3.2 isn't found. Although it's released, it seems Render hasn't updated to the latest version yet. In such cases, we will update our `requirements.txt` file with the version that's available on Render (2.2.5 in this case).\n",
    "\n",
    "Once all errors are fixed, you should see something like this:\n",
    "\n",
    "<img src=\"https://i.imgur.com/r0SnGd7.png\" width=\"540\" height=\"240\"></img>\n",
    "\n",
    "You'll be able to see the live URL at the top of the page. Click on it to access your live application:\n",
    "\n",
    "<img src=\"https://i.imgur.com/kHwDiZD.png\" width=\"540\" height=\"240\"></img>\n",
    "\n",
    "Congratulations, your deployed model is now live in production. If you want to make any changes to the web app in the future, simply make the changes and push to your main branch on GitHub. Your changes will be automatically deployed on Render."
   ]
  },
  {
   "cell_type": "markdown",
   "metadata": {},
   "source": [
    "## API \n"
   ]
  },
  {
   "cell_type": "markdown",
   "metadata": {},
   "source": [
    "### Creating an API Route"
   ]
  },
  {
   "cell_type": "markdown",
   "metadata": {},
   "source": [
    "As we've finally made our model public, one last thing we can do is create an API for our model prediction, which accepts a JSON data in the body, like this:\n",
    "```JSX\n",
    "{\n",
    "    \"content\": \"The text of an email...\"\n",
    "}\n",
    "```\n",
    "And it will respond with a JSON object like this:\n",
    "```JSX\n",
    "{\n",
    "    \"prediction\": 1,\n",
    "    \"email\": \"The text of an email...\"\n",
    "}\n",
    "```\n",
    "\n",
    "This is the code for creating the API Endpoint, we will register a new route `\"\\api\\predict\"` for the API.\n",
    "```python\n",
    "from flask import Flask, render_template, request, jsonify\n",
    "\n",
    "...\n",
    "\n",
    "@app.route('/api/predict', methods=['POST'])\n",
    "def predict_api():\n",
    "    data = request.get_json(force=True)  # Get data posted as a json\n",
    "    email = data['content']\n",
    "    tokenized_email = cv.transform([email]) # X \n",
    "    prediction = clf.predict(tokenized_email)\n",
    "    # If the email is spam prediction should be 1\n",
    "    prediction = 1 if prediction == 1 else -1\n",
    "    return jsonify({'prediction': prediction, 'email': email})  # Return prediction\n",
    "\n",
    "...\n",
    "```\n",
    "\n",
    "Now, you have two routes. The `\"/predict\"` route will work as before, rendering HTML pages for form submissions, and the `\"/api/predict\"` route will respond to JSON-based POST requests with JSON responses. You would use an HTTP client to send POST requests to `\"/api/predict\"` with JSON data in the body, and it will respond with JSON data.\n",
    "\n"
   ]
  },
  {
   "cell_type": "markdown",
   "metadata": {},
   "source": [
    "### Code Refactoring"
   ]
  },
  {
   "cell_type": "markdown",
   "metadata": {},
   "source": [
    "As we are using similar code in both `predict()` and `predict_api()` function. We can create a separate utility function for the repetitive code.\n",
    "\n",
    "```python\n",
    "def model_predict(email):\n",
    "    if email == \"\":\n",
    "        return \"\"\n",
    "    tokenized_email = cv.transform([email]) # X \n",
    "    prediction = clf.predict(tokenized_email)\n",
    "    # If the email is spam prediction should be 1\n",
    "    prediction = 1 if prediction == 1 else -1\n",
    "    return prediction\n",
    "```\n",
    "\n",
    "This code can be kept seperately from the `app.py` file in a `utils` file. Here's the final Python code. \n",
    "\n",
    "**`app.py`** file\n",
    "```python\n",
    "from flask import Flask, render_template, request, jsonify\n",
    "from utils import model_predict\n",
    "app = Flask(__name__)\n",
    "\n",
    "\n",
    "@app.route(\"/\")\n",
    "def home():\n",
    "    return render_template(\"index.html\")\n",
    "\n",
    "\n",
    "@app.route('/predict', methods=['POST'])\n",
    "def predict():\n",
    "    email = request.form.get('content')\n",
    "    prediction = model_predict(email)\n",
    "    return render_template(\"index.html\", prediction=prediction, email=email)\n",
    "\n",
    "# Create an API endpoint\n",
    "@app.route('/api/predict', methods=['POST'])\n",
    "def predict_api():\n",
    "    data = request.get_json(force=True)  # Get data posted as a json\n",
    "    email = data['content']\n",
    "    prediction = model_predict(email)\n",
    "    return jsonify({'prediction': prediction, 'email': email})  # Return prediction\n",
    "\n",
    "if __name__ == \"__main__\":\n",
    "    app.run(host=\"0.0.0.0\", port=8080, debug=True)\n",
    "```\n",
    "\n",
    "**`utils.py`** file\n",
    "```python\n",
    "import pickle\n",
    "\n",
    "cv = pickle.load(open(\"models/cv.pkl\", 'rb'))\n",
    "clf = pickle.load(open(\"models/clf.pkl\", 'rb'))\n",
    "\n",
    "def model_predict(email):\n",
    "    if email == \"\":\n",
    "        return \"\"\n",
    "    tokenized_email = cv.transform([email]) # X \n",
    "    prediction = clf.predict(tokenized_email)\n",
    "    # If the email is spam prediction should be 1\n",
    "    prediction = 1 if prediction == 1 else -1\n",
    "    return prediction\n",
    "```\n",
    "\n",
    "**Note:** We've not made any changes in the template/index.html file."
   ]
  },
  {
   "cell_type": "markdown",
   "metadata": {},
   "source": [
    "### Fetching the API"
   ]
  },
  {
   "cell_type": "markdown",
   "metadata": {},
   "source": [
    "You can fetch the API using Command Line, Python or any API testing tools etc.\n",
    "\n",
    "We'll be using Thunder Client Extension from VSCode to test our API. \n",
    "\n",
    "To fetch the API using ThunderClient, Insomnia, or Postman, follow these steps:\n",
    "\n",
    "#### Step 1: Open your API testing tool\n",
    "Launch ThunderClient, Insomnia, or Postman on your computer.\n",
    "\n",
    "#### Step 2: Create a new request\n",
    "Create a new request by clicking on the \"New Request\" or \"New\" button in the tool's interface.\n",
    "\n",
    "#### Step 3: Set the request method and URL\n",
    "Set the request method to \"POST\" and enter the API URL in the request URL field. In this case, the URL is \"/api/predict\".\n",
    "\n",
    "#### Step 4: Set the request body\n",
    "In the request body, enter the JSON payload with the \"content\" parameter and the email content. The payload should look like this:\n",
    "\n",
    "```json\n",
    "{\n",
    "  \"content\": \"Sample email content goes here.\"\n",
    "}\n",
    "```\n",
    "\n",
    "Replace \"Sample email content goes here.\" with the actual email content you want to check.\n",
    "\n",
    "#### Step 5: Send the request\n",
    "Click the \"Send\" or \"Send Request\" button to send the API request.\n",
    "\n",
    "#### Step 6: Process the response\n",
    "Once the request is sent, the API server will process it and send back a response. The response will contain the prediction and email content. Similar to this: \n",
    "```json\n",
    "{\n",
    "    \"prediction\": 1,\n",
    "    \"email\": \"Sample email content\"\n",
    "}\n",
    "```\n",
    "\n",
    "In ThunderClient and Insomnia, you can view the response in the tool's interface. "
   ]
  },
  {
   "cell_type": "markdown",
   "metadata": {},
   "source": [
    "## Exercise"
   ]
  },
  {
   "cell_type": "markdown",
   "metadata": {},
   "source": [
    "Improve the UI of the webpage, make it more user friendly, you can use CSS or some CSS framework like Bootstrap, TailwindCSS for the same. \n",
    "\n",
    "Here's an example UI:\n",
    "\n",
    "<img src=\"https://i.imgur.com/mQdDwQJ.png\" width=\"540\" height=\"240\"></img>\n"
   ]
  },
  {
   "cell_type": "markdown",
   "metadata": {},
   "source": [
    "## Summary and References"
   ]
  },
  {
   "cell_type": "markdown",
   "metadata": {},
   "source": [
    "### Summary"
   ]
  },
  {
   "cell_type": "markdown",
   "metadata": {},
   "source": [
    "- The tutorial explains how to deploy a machine learning model for an email spam classifier as a web application using Flask and Render.\n",
    "- It covers project setup using GitHub and Conda environment, creating a Flask app, adding HTML templates, and styling the page with CSS.\n",
    "- The tutorial assumes basic knowledge of machine learning concepts, HTML and CSS, and Python programming.\n",
    "- It provides step-by-step instructions on creating a new repository on GitHub and setting up the project in a code editor (VSCode, Replit, or GitHub Codespace).\n",
    "- The tutorial guides through creating a Conda environment with the required packages for the project.\n",
    "- It explains how to create a Flask app by importing Flask, creating an instance of the Flask class, registering routes, and running the application.\n",
    "- The tutorial demonstrates rendering HTML templates with Flask using the render_template() function and shows how to style the page using CSS.\n",
    "- It explores the email spam classifier machine learning model and its training process using CountVectorizer and a classifier model.\n",
    "- The tutorial explains how to load the pre-trained models from pickle files in the Flask application and make predictions based on user input.\n",
    "- It provides instructions for deploying the model locally and displaying the results on the web page.\n",
    "- The tutorial then covers deploying the web application to the cloud using Render and explains the steps involved in preparing for publishing, pushing changes to GitHub, and creating a deployment on Render.\n",
    "- It emphasizes the importance of waiting for the deployment process to complete and addresses potential errors that may occur during deployment.\n",
    "- The tutorial concludes by highlighting the successful deployment of the email spam classifier web application and its availability for use."
   ]
  },
  {
   "cell_type": "markdown",
   "metadata": {},
   "source": [
    "### References\n",
    "\n",
    "- GitHub tutorial: https://docs.github.com/en/get-started/quickstart/hello-world\n",
    "- Replit tutorial: https://docs.replit.com/tutorials/overview\n",
    "- Flask tutorial: https://flask.palletsprojects.com/en/2.1.x/quickstart/\n",
    "- Practical Guide on Deploying ML models: https://medium.com/geekculture/a-practical-guide-on-deploying-machine-learning-project-101-a494314a6127\n",
    "- Spam Detection in Mails: https://towardsdatascience.com/spam-detection-in-emails-de0398ea3b48\n",
    "\n",
    "Here are some additional references that you can explore for more information on the topics covered in the tutorial:\n",
    "\n",
    "1. Flask Documentation: [Flask Official Documentation](https://flask.palletsprojects.com/)\n",
    "\n",
    "2. GitHub Documentation: [GitHub Docs](https://docs.github.com/en)\n",
    "3. Conda Documentation: [Conda User Guide](https://docs.conda.io/projects/conda/en/latest/user-guide/)\n",
    "4. HTML and CSS Documentation: [MDN Web Docs](https://developer.mozilla.org/en-US/docs/Web)\n",
    "\n",
    "5. Machine Learning with Scikit-Learn: [Scikit-Learn Documentation](https://scikit-learn.org/stable/documentation.html)\n",
    "6. Render Documentation: [Render Documentation](https://render.com/docs)\n",
    "\n",
    "By referring to these sources, you can gain a deeper understanding of Flask, GitHub, Conda, HTML, CSS, Scikit-Learn, and Render, which will help you in deploying machine learning models and web applications effectively.\n"
   ]
  },
  {
   "cell_type": "markdown",
   "metadata": {},
   "source": [
    "### Scope of Future Work"
   ]
  },
  {
   "cell_type": "markdown",
   "metadata": {},
   "source": [
    "Here are few things that can be implemented in the Future: \n",
    "\n",
    "- Implement authentication and user management: Add user authentication to the web application to ensure secure access and personalized experiences for users. This can include user registration, login, and account management functionality.\n",
    "- Scale the application for high traffic: Optimize the web application to handle increased traffic and concurrent user requests. This can involve deploying the application on a scalable infrastructure, such as using containerization technologies like Docker or utilizing cloud services like AWS or Google Cloud Platform.\n",
    "- Implement APIs for model integration: Create APIs to expose the functionality of the email spam classification model, allowing other applications or services to integrate and make predictions using the deployed model.\n",
    "- Enhance user interface and user experience: Continuously improve the user interface and user experience of the web application by refining the design, layout, and usability. Incorporate user feedback to make the application more intuitive and user-friendly.\n",
    "- Implement real-time updates: Enable real-time updates of the classification results as users input or modify email content. This can provide a more interactive experience and immediate feedback to users.\n",
    "- Integrate additional machine learning models: Extend the application's capabilities by integrating additional machine learning models for tasks such as sentiment analysis, text summarization, or email categorization. This can provide users with a comprehensive suite of tools for managing and analyzing emails.\n",
    "\n",
    "These future work ideas can help further enhance the model deployment aspect of the email spam classifier web application and expand its capabilities to provide a more robust and versatile solution."
   ]
  },
  {
   "cell_type": "markdown",
   "metadata": {},
   "source": [
    "### Miscellaneous"
   ]
  },
  {
   "cell_type": "markdown",
   "metadata": {
    "heading_collapsed": true
   },
   "source": [
    "#### VS Code Setup\n",
    "<p id='vscode'></p>"
   ]
  },
  {
   "cell_type": "markdown",
   "metadata": {
    "hidden": true
   },
   "source": [
    "Visual Studio Code, also commonly referred to as VS Code, is a source-code editor made by Microsoft with the Electron Framework, for Windows, Linux and macOS. Features include support for debugging, syntax highlighting, intelligent code completion, snippets, code refactoring, and embedded Git.\n",
    "\n",
    "It is a very powerful code editor and supports multiple language. It has a robust set of add on extensions and is the most preferred code editor for developers.\n",
    "\n",
    "If you're using VSCode for deployment, follow these steps to setup your project in VSCode:\n",
    "- Copy the repository link for cloning\n",
    "\n",
    "<p float='left'>\n",
    "<img src='https://i.imgur.com/NlitvNp.png' width='600'></p>\n",
    "\n",
    "- Create a New Folder/Directory and navigate to that directory\n",
    "\n",
    "<p float='left'>\n",
    "<img src='https://i.imgur.com/LmiJvz6.png' width='600'></p>\n",
    "\n",
    "- Type `git clone` and paste the copied repository link, hit Enter\n",
    "```shell\n",
    "git clone your-repo-link\n",
    "```\n",
    "\n",
    "<p float='left'>\n",
    "<img src='https://i.imgur.com/ST9Rikb.png' width='600'></p>\n",
    "\n",
    "- Navigate to the the project directory (Directory Name = Repository Name)\n",
    "\n",
    "<p float='left'>\n",
    "<img src='https://i.imgur.com/EAn1ZGs.png' width='600'></p>\n",
    "\n",
    "- Type `code .` and hit enter. (`code .` will only work if VSCode is installed properly)\n",
    "\n",
    "<p float='left'>\n",
    "<img src='https://i.imgur.com/V27JmUx.png' width='600'></p>\n",
    "\n",
    "- The VScode window will open, install the Python Extension within the code editor. ([Link](https://marketplace.visualstudio.com/items?itemName=ms-python.python))\n",
    "\n",
    "We've successfully setup the code editor, now we will install the dependencies."
   ]
  },
  {
   "cell_type": "markdown",
   "metadata": {
    "heading_collapsed": true
   },
   "source": [
    "#### Replit Setup\n",
    "\n",
    "<p id=\"replit\"></p>"
   ]
  },
  {
   "cell_type": "markdown",
   "metadata": {
    "hidden": true
   },
   "source": [
    "Replit is a free online collaborative in browser IDE that allows us to create projects and write code in many supported languages. \n",
    "Replit allows us to **integrate our code on GitHub** i.e we can make edits on the cloud and the code will directly be synced on the cloud. \n",
    "\n",
    "- To get started, you will first need to head at https://replit.com/ and **SIGN UP** to create your replit account if you haven't done that already. \n",
    "\n",
    "- Once you've created your account, you will be able to view your replit dashboard\n",
    "<p float=\"left\">\n",
    "  <img src=\"https://i.imgur.com/w0uZrXH.png\" width=\"800\" /></p>\n",
    "  \n",
    "-  Next click on the Create button and select import from GitHub\n",
    "<p float=\"left\">\n",
    "  <img src=\"https://i.imgur.com/Y6M2YeG.png\" width=\"800\" /></p>\n",
    "\n",
    "- After this step, you will be able to see a **GithubRepos** section on your dashboard. You can always disable this integration incase it doesn't work and then re-enable it to start from scratch.  \n",
    "\n",
    "- You can select your repo and import it: \n",
    "<p float='left'>\n",
    "<img src='https://i.imgur.com/CaNK3BG.png' width='700'></p>\n",
    "Which is now going to show all the repo files on replit. \n",
    "\n",
    "- Now that you have your project open, you will be asked to configure a run command which will be executed everytime we click on the run button. \n",
    "<p float='left'>\n",
    "<img src='https://i.imgur.com/r0M0wwJ.png' width='500'></p>\n",
    "\n",
    "- Head to the files tab and add a new file called `app.py`. "
   ]
  },
  {
   "cell_type": "code",
   "execution_count": null,
   "metadata": {
    "hidden": true
   },
   "outputs": [],
   "source": []
  }
 ],
 "metadata": {
  "language_info": {
   "codemirror_mode": {
    "name": "ipython",
    "version": 3
   },
   "file_extension": ".py",
   "mimetype": "text/x-python",
   "name": "python",
   "nbconvert_exporter": "python",
   "pygments_lexer": "ipython3",
   "version": "3.9.7"
  }
 },
 "nbformat": 4,
 "nbformat_minor": 2
}